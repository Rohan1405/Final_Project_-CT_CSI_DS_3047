{
 "cells": [
  {
   "cell_type": "markdown",
   "id": "8c298a59",
   "metadata": {
    "papermill": {
     "duration": 0.011803,
     "end_time": "2023-07-24T12:25:43.037211",
     "exception": false,
     "start_time": "2023-07-24T12:25:43.025408",
     "status": "completed"
    },
    "tags": []
   },
   "source": [
    "<a id=\"1\"></a>\n",
    "<div style=\"border: 3px solid #ff0000; border-radius: 10px; padding: 20px; background-color: #ffcccc; text-align: center; margin: 20px 0; box-shadow: 0 4px 8px rgba(0, 0, 0, 0.2);\">\n",
    "    <h1 style=\"color: black; font-size: 32px; font-family: Helvetica, Arial, sans-serif; margin: 20px 0;\">\n",
    "        <strong>Customer Lifetime Value Prediction</strong>\n",
    "    </h1>\n",
    "    <p style=\"font-family: Helvetica, Arial, sans-serif; color: #000000; font-size: 110%;\">\n",
    "        This notebook introduces a new dimension called Inter-Purchase Time (T) to the traditional RFM (Recency, Frequency, Monetary) model. The new attribute \"T\" captures customer purchasing behavior within their shopping cycle.<br>\n",
    "        While the RFM model has been widely used, its implementation can be challenging due to human behavior's unpredictability. Incorporating criteria that better explain buying habits is crucial. Let’s dive in!<br>\n",
    "    </p>\n",
    "</div>\n",
    "\n",
    "<a id=\"2\"></a>\n",
    "<div style=\"border: 3px solid #ff0000; border-radius: 10px; padding: 20px; background-color: #ffcccc; text-align: center; margin: 20px 0; box-shadow: 0 4px 8px rgba(0, 0, 0, 0.2);\">\n",
    "    <h1 style=\"color: black; font-size: 32px; font-family: Helvetica, Arial, sans-serif; margin: 20px 0;\">\n",
    "        <strong>Introduction</strong>\n",
    "    </h1>\n",
    "    <p style=\"font-family: Helvetica, Arial, sans-serif; color: #000000; font-size: 110%;\">\n",
    "        Customer segmentation involves dividing customers into distinct groups based on shared characteristics, such as demographics, interests, or behaviors. This process helps businesses target their marketing efforts and resources effectively.<br>\n",
    "        The digital business landscape has grown rapidly, making it crucial to maintain long-term customer relationships. Poor market segmentation is a key reason for new product launch failures. Thus, improving consumer behavioral studies and engagement is essential.\n",
    "    </p>\n",
    "</div>\n"
   ]
  },
  {
   "cell_type": "markdown",
   "id": "997a201d",
   "metadata": {
    "papermill": {
     "duration": 0.01103,
     "end_time": "2023-07-24T12:25:43.059694",
     "exception": false,
     "start_time": "2023-07-24T12:25:43.048664",
     "status": "completed"
    },
    "tags": []
   },
   "source": [
    "<a id=\"1\"></a>\n",
    "<div style=\"display: fill; border-radius: 8px; background: linear-gradient(135deg, #1D3557, #457B9D); font-size: 1.2em; font-family: Helvetica, Arial, sans-serif; letter-spacing: 0.5px; box-shadow: 0 4px 8px rgba(0, 0, 0, 0.2); text-align: center; padding: 16px; color: #F1FAEE; margin: 20px 0;\">\n",
    "    <strong>Importing The Libraries</strong>\n",
    "</div>\n"
   ]
  },
  {
   "cell_type": "code",
   "execution_count": 1,
   "id": "72fdeebf",
   "metadata": {
    "_kg_hide-input": true,
    "execution": {
     "iopub.execute_input": "2023-07-24T12:25:43.083757Z",
     "iopub.status.busy": "2023-07-24T12:25:43.083078Z",
     "iopub.status.idle": "2023-07-24T12:25:45.026375Z",
     "shell.execute_reply": "2023-07-24T12:25:45.025411Z"
    },
    "papermill": {
     "duration": 1.958176,
     "end_time": "2023-07-24T12:25:45.028912",
     "exception": false,
     "start_time": "2023-07-24T12:25:43.070736",
     "status": "completed"
    },
    "tags": []
   },
   "outputs": [],
   "source": [
    "import pandas as pd\n",
    "import numpy as np\n",
    "import datetime as dt\n",
    "import seaborn as sns\n",
    "import matplotlib\n",
    "%matplotlib inline\n",
    "import matplotlib.pyplot as plt\n",
    "from sklearn.cluster import KMeans\n",
    "from sklearn.preprocessing import StandardScaler\n",
    "from yellowbrick.cluster import KElbowVisualizer\n",
    "from numpy import math\n",
    "import warnings\n",
    "warnings.simplefilter(action='ignore', category=FutureWarning)"
   ]
  },
  {
   "cell_type": "markdown",
   "id": "ca7b11dc",
   "metadata": {
    "papermill": {
     "duration": 0.011005,
     "end_time": "2023-07-24T12:25:45.051480",
     "exception": false,
     "start_time": "2023-07-24T12:25:45.040475",
     "status": "completed"
    },
    "tags": []
   },
   "source": [
    "<a id=\"2\"></a>\n",
    "<div style=\"display: fill; border-radius: 8px; background: linear-gradient(135deg, #1D3557, #457B9D); font-size: 1.2em; font-family: Helvetica, Arial, sans-serif; letter-spacing: 0.5px; box-shadow: 0 4px 8px rgba(0, 0, 0, 0.2); text-align: center; padding: 16px; color: #F1FAEE; margin: 20px 0;\">\n",
    "    <strong>Loading and Reading the Dataset</strong>\n",
    "</div>\n"
   ]
  },
  {
   "cell_type": "code",
   "execution_count": 2,
   "id": "a9137b18",
   "metadata": {},
   "outputs": [
    {
     "name": "stdout",
     "output_type": "stream",
     "text": [
      "--------------------------------------------------\n",
      "Data imported successfully!!\n",
      "<pandas.io.formats.style.Styler object at 0x0000027FBB200390>\n"
     ]
    }
   ],
   "source": [
    "import pandas as pd\n",
    "\n",
    "# lETS READ THE DATASET...\n",
    "try:\n",
    "    data = pd.read_excel(\"C:\\\\Users\\\\DELL\\\\Desktop\\\\CSI\\\\Final_project\\\\online_retail_II.xlsx\")\n",
    "    print(\"-\" * 50)\n",
    "    print(\"Data imported successfully!!\")\n",
    "    print(data.head(3).style.set_properties(**{\"background-color\": \"#cd5c5c\", \"color\": \"black\", \"border-color\": \"black\"}))\n",
    "except Exception as e:\n",
    "    print(\"An error occurred:\", e)\n"
   ]
  },
  {
   "cell_type": "markdown",
   "id": "bc5d86f4",
   "metadata": {
    "papermill": {
     "duration": 0.011355,
     "end_time": "2023-07-24T12:25:47.737891",
     "exception": false,
     "start_time": "2023-07-24T12:25:47.726536",
     "status": "completed"
    },
    "tags": []
   },
   "source": [
    "<a id=\"3\"></a>\n",
    "<div style=\"display: fill; border-radius: 8px; background: linear-gradient(135deg, #1D3557, #457B9D); font-size: 1.2em; font-family: Helvetica, Arial, sans-serif; letter-spacing: 0.5px; box-shadow: 0 4px 8px rgba(0, 0, 0, 0.2); text-align: center; padding: 16px; color: #F1FAEE; margin: 20px 0;\">\n",
    "    <strong>Exploring Information of the Dataset</strong>\n",
    "</div>\n"
   ]
  },
  {
   "cell_type": "code",
   "execution_count": 3,
   "id": "d962c97f",
   "metadata": {
    "execution": {
     "iopub.execute_input": "2023-07-24T12:25:47.762604Z",
     "iopub.status.busy": "2023-07-24T12:25:47.761946Z",
     "iopub.status.idle": "2023-07-24T12:25:54.460534Z",
     "shell.execute_reply": "2023-07-24T12:25:54.458783Z"
    },
    "papermill": {
     "duration": 6.71327,
     "end_time": "2023-07-24T12:25:54.462822",
     "exception": false,
     "start_time": "2023-07-24T12:25:47.749552",
     "status": "completed"
    },
    "tags": []
   },
   "outputs": [
    {
     "name": "stdout",
     "output_type": "stream",
     "text": [
      "------------------------------------------------------ SHAPE OF DATASET -----------------------------------------------------\n",
      "Rows:525461\n",
      "Columns:8\n",
      "------------------------------------------------------------ HEAD -----------------------------------------------------------\n",
      "  Invoice StockCode                          Description  Quantity  \\\n",
      "0  489434     85048  15CM CHRISTMAS GLASS BALL 20 LIGHTS        12   \n",
      "1  489434    79323P                   PINK CHERRY LIGHTS        12   \n",
      "2  489434    79323W                  WHITE CHERRY LIGHTS        12   \n",
      "3  489434     22041         RECORD FRAME 7\" SINGLE SIZE         48   \n",
      "4  489434     21232       STRAWBERRY CERAMIC TRINKET BOX        24   \n",
      "\n",
      "          InvoiceDate  Price  Customer ID         Country  \n",
      "0 2009-12-01 07:45:00   6.95      13085.0  United Kingdom  \n",
      "1 2009-12-01 07:45:00   6.75      13085.0  United Kingdom  \n",
      "2 2009-12-01 07:45:00   6.75      13085.0  United Kingdom  \n",
      "3 2009-12-01 07:45:00   2.10      13085.0  United Kingdom  \n",
      "4 2009-12-01 07:45:00   1.25      13085.0  United Kingdom  \n",
      "----------------------------------------------------------DATA TYPES---------------------------------------------------------\n",
      "object            4\n",
      "float64           2\n",
      "int64             1\n",
      "datetime64[ns]    1\n",
      "dtype: int64\n",
      "------------------------------------------------------- MISSING VALUES ------------------------------------------------------\n",
      "Customer ID    107927\n",
      "Description      2928\n",
      "dtype: int64\n",
      "----------------------------------------------------- DUPLICATED VALUES -----------------------------------------------------\n",
      "6865\n",
      "----------------------------------------------------- STATISTICS OF DATA ----------------------------------------------------\n",
      "         Invoice StockCode                         Description       Quantity  \\\n",
      "count   525461.0    525461                              522533  525461.000000   \n",
      "unique   28816.0      4632                                4681            NaN   \n",
      "top     537434.0    85123A  WHITE HANGING HEART T-LIGHT HOLDER            NaN   \n",
      "freq       675.0      3516                                3549            NaN   \n",
      "first        NaN       NaN                                 NaN            NaN   \n",
      "last         NaN       NaN                                 NaN            NaN   \n",
      "mean         NaN       NaN                                 NaN      10.337667   \n",
      "std          NaN       NaN                                 NaN     107.424110   \n",
      "min          NaN       NaN                                 NaN   -9600.000000   \n",
      "25%          NaN       NaN                                 NaN       1.000000   \n",
      "50%          NaN       NaN                                 NaN       3.000000   \n",
      "75%          NaN       NaN                                 NaN      10.000000   \n",
      "max          NaN       NaN                                 NaN   19152.000000   \n",
      "\n",
      "                InvoiceDate          Price    Customer ID         Country  \n",
      "count                525461  525461.000000  417534.000000          525461  \n",
      "unique                25296            NaN            NaN              40  \n",
      "top     2010-12-06 16:57:00            NaN            NaN  United Kingdom  \n",
      "freq                    675            NaN            NaN          485852  \n",
      "first   2009-12-01 07:45:00            NaN            NaN             NaN  \n",
      "last    2010-12-09 20:01:00            NaN            NaN             NaN  \n",
      "mean                    NaN       4.688834   15360.645478             NaN  \n",
      "std                     NaN     146.126914    1680.811316             NaN  \n",
      "min                     NaN  -53594.360000   12346.000000             NaN  \n",
      "25%                     NaN       1.250000   13983.000000             NaN  \n",
      "50%                     NaN       2.100000   15311.000000             NaN  \n",
      "75%                     NaN       4.210000   16799.000000             NaN  \n",
      "max                     NaN   25111.090000   18287.000000             NaN  \n",
      "----------------------------------------------------------DATA INFO----------------------------------------------------------\n",
      "<class 'pandas.core.frame.DataFrame'>\n",
      "RangeIndex: 525461 entries, 0 to 525460\n",
      "Data columns (total 8 columns):\n",
      " #   Column       Non-Null Count   Dtype         \n",
      "---  ------       --------------   -----         \n",
      " 0   Invoice      525461 non-null  object        \n",
      " 1   StockCode    525461 non-null  object        \n",
      " 2   Description  522533 non-null  object        \n",
      " 3   Quantity     525461 non-null  int64         \n",
      " 4   InvoiceDate  525461 non-null  datetime64[ns]\n",
      " 5   Price        525461 non-null  float64       \n",
      " 6   Customer ID  417534 non-null  float64       \n",
      " 7   Country      525461 non-null  object        \n",
      "dtypes: datetime64[ns](1), float64(2), int64(1), object(4)\n",
      "memory usage: 32.1+ MB\n",
      "None\n"
     ]
    }
   ],
   "source": [
    "pd.set_option('display.max_columns', None) \n",
    "def data_overview(df, head=5):\n",
    "    print(\" SHAPE OF DATASET \".center(125,'-'))\n",
    "    print('Rows:{}'.format(df.shape[0]))\n",
    "    print('Columns:{}'.format(df.shape[1]))\n",
    "    print(\" HEAD \".center(125,'-'))\n",
    "    print(df.head(head))\n",
    "    print(\"DATA TYPES\".center(125,'-'))\n",
    "    print(data.dtypes.value_counts())\n",
    "    print(\" MISSING VALUES \".center(125,'-'))\n",
    "    print(df.isnull().sum()[df.isnull().sum()>0].sort_values(ascending = False))\n",
    "    print(\" DUPLICATED VALUES \".center(125,'-'))\n",
    "    print(df.duplicated().sum())\n",
    "    print(\" STATISTICS OF DATA \".center(125,'-'))\n",
    "    print(df.describe(include=\"all\"))\n",
    "    print(\"DATA INFO\".center(125,'-'))\n",
    "    print(df.info())\n",
    "    \n",
    "    \n",
    "data_overview(data)"
   ]
  },
  {
   "cell_type": "markdown",
   "id": "7a0b4c2a",
   "metadata": {
    "papermill": {
     "duration": 0.011802,
     "end_time": "2023-07-24T12:25:54.511004",
     "exception": false,
     "start_time": "2023-07-24T12:25:54.499202",
     "status": "completed"
    },
    "tags": []
   },
   "source": [
    "<a id=\"4\"></a>\n",
    "<div style=\"display: fill; border-radius: 8px; background: linear-gradient(135deg, #1D3557, #457B9D); font-size: 1.2em; font-family: Helvetica, Arial, sans-serif; letter-spacing: 0.5px; box-shadow: 0 4px 8px rgba(0, 0, 0, 0.2); text-align: center; padding: 16px; color: #F1FAEE; margin: 20px 0;\">\n",
    "    <strong>Data Wrangling </strong>\n",
    "</div>\n"
   ]
  },
  {
   "cell_type": "markdown",
   "id": "d417013d",
   "metadata": {
    "papermill": {
     "duration": 0.012694,
     "end_time": "2023-07-24T12:25:54.535906",
     "exception": false,
     "start_time": "2023-07-24T12:25:54.523212",
     "status": "completed"
    },
    "tags": []
   },
   "source": [
    "<h1 style=\"color: #1D3557; font-size: 24px; font-family: Helvetica, Arial, sans-serif; text-align: left;\">\n",
    "    🔍 <strong>Dealing with Missing Values</strong>\n",
    "</h1>\n"
   ]
  },
  {
   "cell_type": "code",
   "execution_count": 4,
   "id": "52f5b6d2",
   "metadata": {
    "execution": {
     "iopub.execute_input": "2023-07-24T12:25:54.562137Z",
     "iopub.status.busy": "2023-07-24T12:25:54.561317Z",
     "iopub.status.idle": "2023-07-24T12:25:54.654833Z",
     "shell.execute_reply": "2023-07-24T12:25:54.653641Z"
    },
    "papermill": {
     "duration": 0.108741,
     "end_time": "2023-07-24T12:25:54.657019",
     "exception": false,
     "start_time": "2023-07-24T12:25:54.548278",
     "status": "completed"
    },
    "tags": []
   },
   "outputs": [
    {
     "name": "stdout",
     "output_type": "stream",
     "text": [
      "Shape of data before removing NaN's CustomerID (525461, 8)\n",
      "Shape of data after removing NaN's CustomerID (417534, 8)\n"
     ]
    }
   ],
   "source": [
    "#  Removing NaN's in Customer ID\n",
    "print(\"Shape of data before removing NaN's CustomerID\",data.shape)\n",
    "data.dropna(subset=\"Customer ID\",axis=0,inplace=True)\n",
    "print(\"Shape of data after removing NaN's CustomerID\",data.shape)"
   ]
  },
  {
   "cell_type": "code",
   "execution_count": 5,
   "id": "29140e39",
   "metadata": {
    "execution": {
     "iopub.execute_input": "2023-07-24T12:25:54.684424Z",
     "iopub.status.busy": "2023-07-24T12:25:54.684111Z",
     "iopub.status.idle": "2023-07-24T12:25:55.830192Z",
     "shell.execute_reply": "2023-07-24T12:25:55.829060Z"
    },
    "papermill": {
     "duration": 1.161984,
     "end_time": "2023-07-24T12:25:55.832333",
     "exception": false,
     "start_time": "2023-07-24T12:25:54.670349",
     "status": "completed"
    },
    "tags": []
   },
   "outputs": [
    {
     "name": "stdout",
     "output_type": "stream",
     "text": [
      "Missing values in each column after cleaning customerID :\n",
      " Invoice        0\n",
      "StockCode      0\n",
      "Description    0\n",
      "Quantity       0\n",
      "InvoiceDate    0\n",
      "Price          0\n",
      "Customer ID    0\n",
      "Country        0\n",
      "dtype: int64\n"
     ]
    }
   ],
   "source": [
    "print(\"Missing values in each column after cleaning customerID :\\n\",data.isnull().sum())"
   ]
  },
  {
   "cell_type": "markdown",
   "id": "2353e39f",
   "metadata": {
    "papermill": {
     "duration": 0.011752,
     "end_time": "2023-07-24T12:25:55.881528",
     "exception": false,
     "start_time": "2023-07-24T12:25:55.869776",
     "status": "completed"
    },
    "tags": []
   },
   "source": [
    "<h1 style=\"color: #1D3557; font-size: 24px; font-family: Helvetica, Arial, sans-serif; text-align: left;\">\n",
    "    🚫 <strong>Removing Canceled Products from Invoice</strong>\n",
    "</h1>\n"
   ]
  },
  {
   "cell_type": "code",
   "execution_count": 6,
   "id": "3a4a5857",
   "metadata": {
    "execution": {
     "iopub.execute_input": "2023-07-24T12:25:55.907663Z",
     "iopub.status.busy": "2023-07-24T12:25:55.907371Z",
     "iopub.status.idle": "2023-07-24T12:25:56.424157Z",
     "shell.execute_reply": "2023-07-24T12:25:56.422680Z"
    },
    "papermill": {
     "duration": 0.532221,
     "end_time": "2023-07-24T12:25:56.426303",
     "exception": false,
     "start_time": "2023-07-24T12:25:55.894082",
     "status": "completed"
    },
    "tags": []
   },
   "outputs": [
    {
     "name": "stdout",
     "output_type": "stream",
     "text": [
      "Dataset is free from cancelled products information\n"
     ]
    }
   ],
   "source": [
    "#using one's compliment operator (~) we can unselect all the Invoice column which doesnt contain \"C\".\n",
    "data = data[~data.Invoice.str.contains('C',na=False)]\n",
    "print(\"Dataset is free from cancelled products information\")"
   ]
  },
  {
   "cell_type": "markdown",
   "id": "12f68158",
   "metadata": {
    "papermill": {
     "duration": 0.012314,
     "end_time": "2023-07-24T12:25:56.450875",
     "exception": false,
     "start_time": "2023-07-24T12:25:56.438561",
     "status": "completed"
    },
    "tags": []
   },
   "source": [
    "<h1 style=\"color: #1D3557; font-size: 24px; font-family: Helvetica, Arial, sans-serif; text-align: left;\">\n",
    "    🔄 <strong>Removing Duplicates</strong>\n",
    "</h1>\n"
   ]
  },
  {
   "cell_type": "code",
   "execution_count": 7,
   "id": "1eabd366",
   "metadata": {
    "execution": {
     "iopub.execute_input": "2023-07-24T12:25:56.476935Z",
     "iopub.status.busy": "2023-07-24T12:25:56.476041Z",
     "iopub.status.idle": "2023-07-24T12:25:58.081495Z",
     "shell.execute_reply": "2023-07-24T12:25:58.080287Z"
    },
    "papermill": {
     "duration": 1.621614,
     "end_time": "2023-07-24T12:25:58.084601",
     "exception": false,
     "start_time": "2023-07-24T12:25:56.462987",
     "status": "completed"
    },
    "tags": []
   },
   "outputs": [
    {
     "name": "stdout",
     "output_type": "stream",
     "text": [
      "Number of duplicates before cleaning: 6748\n",
      "Number of duplicates after cleaning: 0\n"
     ]
    }
   ],
   "source": [
    "# Removing duplicates (Values in all columns are identical)\n",
    "print(\"Number of duplicates before cleaning:\",data.duplicated().sum())\n",
    "data = data.drop_duplicates(keep=\"first\")\n",
    "print(\"Number of duplicates after cleaning:\",data.duplicated().sum())"
   ]
  },
  {
   "cell_type": "markdown",
   "id": "05cccb82",
   "metadata": {
    "papermill": {
     "duration": 0.012641,
     "end_time": "2023-07-24T12:25:58.110831",
     "exception": false,
     "start_time": "2023-07-24T12:25:58.098190",
     "status": "completed"
    },
    "tags": []
   },
   "source": [
    "<h1 style=\"color: #1D3557; font-size: 24px; font-family: Helvetica, Arial, sans-serif; text-align: left;\">\n",
    "    ⚠️ <strong>Checking for Negative Values</strong>\n",
    "</h1>\n"
   ]
  },
  {
   "cell_type": "code",
   "execution_count": 8,
   "id": "5ec45c3d",
   "metadata": {
    "execution": {
     "iopub.execute_input": "2023-07-24T12:25:58.136731Z",
     "iopub.status.busy": "2023-07-24T12:25:58.136135Z",
     "iopub.status.idle": "2023-07-24T12:25:58.146234Z",
     "shell.execute_reply": "2023-07-24T12:25:58.144913Z"
    },
    "papermill": {
     "duration": 0.025223,
     "end_time": "2023-07-24T12:25:58.148282",
     "exception": false,
     "start_time": "2023-07-24T12:25:58.123059",
     "status": "completed"
    },
    "tags": []
   },
   "outputs": [
    {
     "name": "stdout",
     "output_type": "stream",
     "text": [
      "Negative value in Quantity is: 0\n",
      "Negative value in Price is: 0\n"
     ]
    }
   ],
   "source": [
    "print(\"Negative value in Quantity is:\",(data.Quantity<0).sum())\n",
    "print(\"Negative value in Price is:\",(data.Price<0).sum())"
   ]
  },
  {
   "cell_type": "markdown",
   "id": "ffeb6d04",
   "metadata": {
    "papermill": {
     "duration": 0.012111,
     "end_time": "2023-07-24T12:25:58.173080",
     "exception": false,
     "start_time": "2023-07-24T12:25:58.160969",
     "status": "completed"
    },
    "tags": []
   },
   "source": [
    "<h1 style=\"color: #1D3557; font-size: 24px; font-family: Helvetica, Arial, sans-serif; text-align: left;\">\n",
    "    🧹 <strong>Cleaning Outliers</strong>\n",
    "</h1>\n"
   ]
  },
  {
   "cell_type": "code",
   "execution_count": 9,
   "id": "35cba04a",
   "metadata": {
    "execution": {
     "iopub.execute_input": "2023-07-24T12:25:58.200554Z",
     "iopub.status.busy": "2023-07-24T12:25:58.198789Z",
     "iopub.status.idle": "2023-07-24T12:25:58.205852Z",
     "shell.execute_reply": "2023-07-24T12:25:58.204987Z"
    },
    "papermill": {
     "duration": 0.0223,
     "end_time": "2023-07-24T12:25:58.207743",
     "exception": false,
     "start_time": "2023-07-24T12:25:58.185443",
     "status": "completed"
    },
    "tags": []
   },
   "outputs": [],
   "source": [
    "#defining funcation to remove outliers w.r.t its thresholds\n",
    "def outlier_thresholds(dataframe, variable):\n",
    "    quartile1 = dataframe[variable].quantile(0.01)\n",
    "    quartile3 = dataframe[variable].quantile(0.99)\n",
    "    interquantile_range = quartile3 - quartile1\n",
    "    up_limit = quartile3 + 1.5 * interquantile_range\n",
    "    low_limit = quartile1 - 1.5 * interquantile_range\n",
    "    return up_limit, low_limit\n",
    "\n",
    "def replace_with_threshold(dataframe, variable):\n",
    "    up_limit, low_limit = outlier_thresholds(dataframe, variable)\n",
    "    # dataframe.loc[(dataframe[variable] < low_limit), variable] = low_limit\n",
    "    dataframe.loc[(dataframe[variable] > up_limit), variable] = up_limit"
   ]
  },
  {
   "cell_type": "code",
   "execution_count": 10,
   "id": "a948b377",
   "metadata": {
    "execution": {
     "iopub.execute_input": "2023-07-24T12:25:58.234014Z",
     "iopub.status.busy": "2023-07-24T12:25:58.233193Z",
     "iopub.status.idle": "2023-07-24T12:25:58.902987Z",
     "shell.execute_reply": "2023-07-24T12:25:58.902023Z"
    },
    "papermill": {
     "duration": 0.685042,
     "end_time": "2023-07-24T12:25:58.905151",
     "exception": false,
     "start_time": "2023-07-24T12:25:58.220109",
     "status": "completed"
    },
    "tags": []
   },
   "outputs": [
    {
     "data": {
      "image/png": "[encoded data removed]",
      "text/plain": [
       "<Figure size 2000x500 with 2 Axes>"
      ]
     },
     "metadata": {},
     "output_type": "display_data"
    }
   ],
   "source": [
    "# Observing them before removing outliers.\n",
    "f, ax = plt.subplots(2,1, figsize = (20,5))\n",
    "col_list = [\"Quantity\",\"Price\"]\n",
    "for i in range(0,2):\n",
    "    ax[i].boxplot(data[col_list[i]],flierprops = dict(marker = \"s\", markerfacecolor = \"red\"), vert = 0)\n",
    "plt.show()"
   ]
  },
  {
   "cell_type": "code",
   "execution_count": 11,
   "id": "cff097b2",
   "metadata": {
    "execution": {
     "iopub.execute_input": "2023-07-24T12:25:58.933640Z",
     "iopub.status.busy": "2023-07-24T12:25:58.933337Z",
     "iopub.status.idle": "2023-07-24T12:25:58.977651Z",
     "shell.execute_reply": "2023-07-24T12:25:58.976715Z"
    },
    "papermill": {
     "duration": 0.060749,
     "end_time": "2023-07-24T12:25:58.980089",
     "exception": false,
     "start_time": "2023-07-24T12:25:58.919340",
     "status": "completed"
    },
    "tags": []
   },
   "outputs": [],
   "source": [
    "# Applying the functions for remove the outlier.\n",
    "replace_with_threshold(data, \"Quantity\")\n",
    "replace_with_threshold(data, \"Price\")"
   ]
  },
  {
   "cell_type": "code",
   "execution_count": 12,
   "id": "8abb0229",
   "metadata": {
    "execution": {
     "iopub.execute_input": "2023-07-24T12:25:59.007553Z",
     "iopub.status.busy": "2023-07-24T12:25:59.007266Z",
     "iopub.status.idle": "2023-07-24T12:25:59.597361Z",
     "shell.execute_reply": "2023-07-24T12:25:59.596398Z"
    },
    "papermill": {
     "duration": 0.60721,
     "end_time": "2023-07-24T12:25:59.600687",
     "exception": false,
     "start_time": "2023-07-24T12:25:58.993477",
     "status": "completed"
    },
    "tags": []
   },
   "outputs": [
    {
     "data": {
      "image/png": "[encoded data removed]",
      "text/plain": [
       "<Figure size 2000x500 with 2 Axes>"
      ]
     },
     "metadata": {},
     "output_type": "display_data"
    }
   ],
   "source": [
    "# Observing them after removing outliers.\n",
    "f, ax = plt.subplots(2,1, figsize = (20,5))\n",
    "for i in range(0,2):\n",
    "    ax[i].boxplot(data[col_list[i]],flierprops = dict(marker = \"s\", markerfacecolor = \"red\"), vert = 0)\n",
    "plt.show()"
   ]
  },
  {
   "cell_type": "markdown",
   "id": "7f61efc1",
   "metadata": {
    "papermill": {
     "duration": 0.01363,
     "end_time": "2023-07-24T12:25:59.655455",
     "exception": false,
     "start_time": "2023-07-24T12:25:59.641825",
     "status": "completed"
    },
    "tags": []
   },
   "source": [
    "<a id=\"5\"></a>\n",
    "<div style=\"display: fill; border-radius: 8px; background: linear-gradient(135deg, #1D3557, #457B9D); font-size: 1.2em; font-family: Helvetica, Arial, sans-serif; letter-spacing: 0.5px; box-shadow: 0 4px 8px rgba(0, 0, 0, 0.2); text-align: center; padding: 16px; color: #F1FAEE; margin: 20px 0;\">\n",
    "    <strong style=\"font-size: 1.5em;\">EDA Feature Engineering </strong>\n",
    "</div>\n"
   ]
  },
  {
   "cell_type": "code",
   "execution_count": 13,
   "id": "51145bfc",
   "metadata": {
    "execution": {
     "iopub.execute_input": "2023-07-24T12:25:59.685640Z",
     "iopub.status.busy": "2023-07-24T12:25:59.685071Z",
     "iopub.status.idle": "2023-07-24T12:25:59.694455Z",
     "shell.execute_reply": "2023-07-24T12:25:59.693391Z"
    },
    "papermill": {
     "duration": 0.027277,
     "end_time": "2023-07-24T12:25:59.696775",
     "exception": false,
     "start_time": "2023-07-24T12:25:59.669498",
     "status": "completed"
    },
    "tags": []
   },
   "outputs": [],
   "source": [
    "#Creating new feature Revenue\n",
    "data[\"Revenue\"] = data[\"Quantity\"] * data[\"Price\"]"
   ]
  },
  {
   "cell_type": "code",
   "execution_count": 14,
   "id": "9425f743",
   "metadata": {
    "execution": {
     "iopub.execute_input": "2023-07-24T12:25:59.725686Z",
     "iopub.status.busy": "2023-07-24T12:25:59.725411Z",
     "iopub.status.idle": "2023-07-24T12:25:59.914323Z",
     "shell.execute_reply": "2023-07-24T12:25:59.913269Z"
    },
    "papermill": {
     "duration": 0.205297,
     "end_time": "2023-07-24T12:25:59.916726",
     "exception": false,
     "start_time": "2023-07-24T12:25:59.711429",
     "status": "completed"
    },
    "tags": []
   },
   "outputs": [],
   "source": [
    "#Creating Features for RFM Model\n",
    "#Changing data type to datetime\n",
    "data['InvoiceDate'] = pd.to_datetime(data['InvoiceDate'])"
   ]
  },
  {
   "cell_type": "code",
   "execution_count": 15,
   "id": "0889eb7c",
   "metadata": {
    "execution": {
     "iopub.execute_input": "2023-07-24T12:25:59.946130Z",
     "iopub.status.busy": "2023-07-24T12:25:59.945824Z",
     "iopub.status.idle": "2023-07-24T12:25:59.955363Z",
     "shell.execute_reply": "2023-07-24T12:25:59.954183Z"
    },
    "papermill": {
     "duration": 0.026684,
     "end_time": "2023-07-24T12:25:59.957988",
     "exception": false,
     "start_time": "2023-07-24T12:25:59.931304",
     "status": "completed"
    },
    "tags": []
   },
   "outputs": [
    {
     "name": "stdout",
     "output_type": "stream",
     "text": [
      "Max date : 2010-12-09 20:01:00\n",
      "Min date : 2009-12-01 07:45:00\n"
     ]
    }
   ],
   "source": [
    "print(\"Max date :\",data[\"InvoiceDate\"].max())\n",
    "print(\"Min date :\",data[\"InvoiceDate\"].min())"
   ]
  },
  {
   "cell_type": "code",
   "execution_count": 16,
   "id": "73ec61e1",
   "metadata": {
    "execution": {
     "iopub.execute_input": "2023-07-24T12:25:59.986758Z",
     "iopub.status.busy": "2023-07-24T12:25:59.986477Z",
     "iopub.status.idle": "2023-07-24T12:26:01.888161Z",
     "shell.execute_reply": "2023-07-24T12:26:01.887153Z"
    },
    "papermill": {
     "duration": 1.918444,
     "end_time": "2023-07-24T12:26:01.890726",
     "exception": false,
     "start_time": "2023-07-24T12:25:59.972282",
     "status": "completed"
    },
    "tags": []
   },
   "outputs": [
    {
     "data": {
      "text/html": [
       "<style type=\"text/css\">\n",
       "#T_4b31a_row0_col0, #T_4b31a_row0_col1, #T_4b31a_row0_col2, #T_4b31a_row0_col3, #T_4b31a_row1_col0, #T_4b31a_row1_col1, #T_4b31a_row1_col2, #T_4b31a_row1_col3, #T_4b31a_row2_col0, #T_4b31a_row2_col1, #T_4b31a_row2_col2, #T_4b31a_row2_col3, #T_4b31a_row3_col0, #T_4b31a_row3_col1, #T_4b31a_row3_col2, #T_4b31a_row3_col3, #T_4b31a_row4_col0, #T_4b31a_row4_col1, #T_4b31a_row4_col2, #T_4b31a_row4_col3 {\n",
       "  background-color: #cd5c5c;\n",
       "  color: black;\n",
       "  border-color: black;\n",
       "}\n",
       "</style>\n",
       "<table id=\"T_4b31a\">\n",
       "  <thead>\n",
       "    <tr>\n",
       "      <th class=\"blank level0\" >&nbsp;</th>\n",
       "      <th id=\"T_4b31a_level0_col0\" class=\"col_heading level0 col0\" >Customer ID</th>\n",
       "      <th id=\"T_4b31a_level0_col1\" class=\"col_heading level0 col1\" >Recency</th>\n",
       "      <th id=\"T_4b31a_level0_col2\" class=\"col_heading level0 col2\" >Frequency</th>\n",
       "      <th id=\"T_4b31a_level0_col3\" class=\"col_heading level0 col3\" >Monetary</th>\n",
       "    </tr>\n",
       "  </thead>\n",
       "  <tbody>\n",
       "    <tr>\n",
       "      <th id=\"T_4b31a_level0_row0\" class=\"row_heading level0 row0\" >0</th>\n",
       "      <td id=\"T_4b31a_row0_col0\" class=\"data row0 col0\" >12346.000000</td>\n",
       "      <td id=\"T_4b31a_row0_col1\" class=\"data row0 col1\" >529</td>\n",
       "      <td id=\"T_4b31a_row0_col2\" class=\"data row0 col2\" >11</td>\n",
       "      <td id=\"T_4b31a_row0_col3\" class=\"data row0 col3\" >372.860000</td>\n",
       "    </tr>\n",
       "    <tr>\n",
       "      <th id=\"T_4b31a_level0_row1\" class=\"row_heading level0 row1\" >1</th>\n",
       "      <td id=\"T_4b31a_row1_col0\" class=\"data row1 col0\" >12347.000000</td>\n",
       "      <td id=\"T_4b31a_row1_col1\" class=\"data row1 col1\" >367</td>\n",
       "      <td id=\"T_4b31a_row1_col2\" class=\"data row1 col2\" >2</td>\n",
       "      <td id=\"T_4b31a_row1_col3\" class=\"data row1 col3\" >1323.320000</td>\n",
       "    </tr>\n",
       "    <tr>\n",
       "      <th id=\"T_4b31a_level0_row2\" class=\"row_heading level0 row2\" >2</th>\n",
       "      <td id=\"T_4b31a_row2_col0\" class=\"data row2 col0\" >12348.000000</td>\n",
       "      <td id=\"T_4b31a_row2_col1\" class=\"data row2 col1\" >438</td>\n",
       "      <td id=\"T_4b31a_row2_col2\" class=\"data row2 col2\" >1</td>\n",
       "      <td id=\"T_4b31a_row2_col3\" class=\"data row2 col3\" >222.160000</td>\n",
       "    </tr>\n",
       "    <tr>\n",
       "      <th id=\"T_4b31a_level0_row3\" class=\"row_heading level0 row3\" >3</th>\n",
       "      <td id=\"T_4b31a_row3_col0\" class=\"data row3 col0\" >12349.000000</td>\n",
       "      <td id=\"T_4b31a_row3_col1\" class=\"data row3 col1\" >407</td>\n",
       "      <td id=\"T_4b31a_row3_col2\" class=\"data row3 col2\" >3</td>\n",
       "      <td id=\"T_4b31a_row3_col3\" class=\"data row3 col3\" >2295.020000</td>\n",
       "    </tr>\n",
       "    <tr>\n",
       "      <th id=\"T_4b31a_level0_row4\" class=\"row_heading level0 row4\" >4</th>\n",
       "      <td id=\"T_4b31a_row4_col0\" class=\"data row4 col0\" >12351.000000</td>\n",
       "      <td id=\"T_4b31a_row4_col1\" class=\"data row4 col1\" >375</td>\n",
       "      <td id=\"T_4b31a_row4_col2\" class=\"data row4 col2\" >1</td>\n",
       "      <td id=\"T_4b31a_row4_col3\" class=\"data row4 col3\" >300.930000</td>\n",
       "    </tr>\n",
       "  </tbody>\n",
       "</table>\n"
      ],
      "text/plain": [
       "<pandas.io.formats.style.Styler at 0x27fc1ec7910>"
      ]
     },
     "execution_count": 16,
     "metadata": {},
     "output_type": "execute_result"
    }
   ],
   "source": [
    "#RFM Featuring\n",
    "\n",
    "#Set Latest date 2011-12-10 as last invoice date was 2011-12-09.\n",
    "Latest_Date = dt.datetime(2011,12,10)\n",
    "\n",
    "#Creating RFM features with subset of customerID\n",
    "RFM = data.groupby('Customer ID').agg({'InvoiceDate': lambda x: (Latest_Date - x.max()).days, \n",
    "                                                 'Invoice': lambda x: x.nunique(), \n",
    "                                                 \"Revenue\": lambda x: x.sum()})\n",
    "                                \n",
    "RFM['InvoiceDate'] = RFM['InvoiceDate'].astype(int)\n",
    "\n",
    "#Renaming column names to Recency, Frequency and Monetary\n",
    "RFM.rename(columns={'InvoiceDate': 'Recency', \n",
    "                         'Invoice': 'Frequency', \n",
    "                         'Revenue': 'Monetary'}, inplace=True)\n",
    "\n",
    "RFM.reset_index().head().style.set_properties(**{\"background-color\": \"#cd5c5c\",\"color\": \"black\", \"border-color\": \"black\"})"
   ]
  },
  {
   "cell_type": "markdown",
   "id": "6d9aa146",
   "metadata": {
    "papermill": {
     "duration": 0.013336,
     "end_time": "2023-07-24T12:26:01.917971",
     "exception": false,
     "start_time": "2023-07-24T12:26:01.904635",
     "status": "completed"
    },
    "tags": []
   },
   "source": [
    "<a id=\"6\"></a>\n",
    "<div style=\"display: fill; border-radius: 8px; background: linear-gradient(135deg, #1D3557, #457B9D); font-size: 1.2em; font-family: Helvetica, Arial, sans-serif; letter-spacing: 0.5px; box-shadow: 0 4px 8px rgba(0, 0, 0, 0.2); text-align: center; padding: 16px; color: #F1FAEE; margin: 20px 0;\">\n",
    "    <strong style=\"font-size: 1.5em;\">Introducing New Feature:Interpurchase Time  </strong>\n",
    "</div>\n",
    "\n",
    "<p style=\"font-family: Helvetica, Arial, sans-serif; color: #000000; font-size: 110%; text-align: center; margin: 10px 0;\">\n",
    "    The new feature, Interpurchase Time, represents the average time gap between a customer's total shopping trips. It is calculated using the following formula:\n",
    "</p>\n",
    "\n",
    "<p style=\"font-family: Helvetica, Arial, sans-serif; color: #000000; font-size: 110%; text-align: center; margin: 10px 0;\">\n",
    "    T = L / (F - 1) = (Tn - T1) / (F - 1)\n",
    "</p>\n",
    "\n",
    "<div style=\"text-align: left; font-family: Helvetica, Arial, sans-serif; color: #000000; font-size: 110%; margin: 10px 0;\">\n",
    "    <ul style=\"list-style-type: disc;\">\n",
    "        <li>T → Interpurchase Time</li>\n",
    "        <li>L → Shopping Cycle</li>\n",
    "        <li>F → Frequency</li>\n",
    "        <li>T1 → First Purchase</li>\n",
    "        <li>Tn → Last Purchase</li>\n",
    "    </ul>\n",
    "</div>\n",
    "\n",
    "<p style=\"font-family: Helvetica, Arial, sans-serif; color: #000000; font-size: 110%; text-align: center; margin: 20px 0;\">\n",
    "    Note: This calculation is based on customers who have made more than one purchase.\n",
    "</p>\n"
   ]
  },
  {
   "cell_type": "code",
   "execution_count": 17,
   "id": "f06d919a",
   "metadata": {
    "execution": {
     "iopub.execute_input": "2023-07-24T12:26:01.946818Z",
     "iopub.status.busy": "2023-07-24T12:26:01.945869Z",
     "iopub.status.idle": "2023-07-24T12:26:01.958288Z",
     "shell.execute_reply": "2023-07-24T12:26:01.957305Z"
    },
    "papermill": {
     "duration": 0.02918,
     "end_time": "2023-07-24T12:26:01.960648",
     "exception": false,
     "start_time": "2023-07-24T12:26:01.931468",
     "status": "completed"
    },
    "tags": []
   },
   "outputs": [
    {
     "data": {
      "text/html": [
       "<style type=\"text/css\">\n",
       "#T_d7fa4_row0_col0, #T_d7fa4_row0_col1, #T_d7fa4_row0_col2, #T_d7fa4_row1_col0, #T_d7fa4_row1_col1, #T_d7fa4_row1_col2, #T_d7fa4_row2_col0, #T_d7fa4_row2_col1, #T_d7fa4_row2_col2, #T_d7fa4_row3_col0, #T_d7fa4_row3_col1, #T_d7fa4_row3_col2, #T_d7fa4_row4_col0, #T_d7fa4_row4_col1, #T_d7fa4_row4_col2 {\n",
       "  background-color: #cd5c5c;\n",
       "  color: black;\n",
       "  border-color: black;\n",
       "}\n",
       "</style>\n",
       "<table id=\"T_d7fa4\">\n",
       "  <thead>\n",
       "    <tr>\n",
       "      <th class=\"blank level0\" >&nbsp;</th>\n",
       "      <th id=\"T_d7fa4_level0_col0\" class=\"col_heading level0 col0\" >Recency</th>\n",
       "      <th id=\"T_d7fa4_level0_col1\" class=\"col_heading level0 col1\" >Frequency</th>\n",
       "      <th id=\"T_d7fa4_level0_col2\" class=\"col_heading level0 col2\" >Monetary</th>\n",
       "    </tr>\n",
       "    <tr>\n",
       "      <th class=\"index_name level0\" >Customer ID</th>\n",
       "      <th class=\"blank col0\" >&nbsp;</th>\n",
       "      <th class=\"blank col1\" >&nbsp;</th>\n",
       "      <th class=\"blank col2\" >&nbsp;</th>\n",
       "    </tr>\n",
       "  </thead>\n",
       "  <tbody>\n",
       "    <tr>\n",
       "      <th id=\"T_d7fa4_level0_row0\" class=\"row_heading level0 row0\" >12346.000000</th>\n",
       "      <td id=\"T_d7fa4_row0_col0\" class=\"data row0 col0\" >529</td>\n",
       "      <td id=\"T_d7fa4_row0_col1\" class=\"data row0 col1\" >11</td>\n",
       "      <td id=\"T_d7fa4_row0_col2\" class=\"data row0 col2\" >372.860000</td>\n",
       "    </tr>\n",
       "    <tr>\n",
       "      <th id=\"T_d7fa4_level0_row1\" class=\"row_heading level0 row1\" >12347.000000</th>\n",
       "      <td id=\"T_d7fa4_row1_col0\" class=\"data row1 col0\" >367</td>\n",
       "      <td id=\"T_d7fa4_row1_col1\" class=\"data row1 col1\" >2</td>\n",
       "      <td id=\"T_d7fa4_row1_col2\" class=\"data row1 col2\" >1323.320000</td>\n",
       "    </tr>\n",
       "    <tr>\n",
       "      <th id=\"T_d7fa4_level0_row2\" class=\"row_heading level0 row2\" >12349.000000</th>\n",
       "      <td id=\"T_d7fa4_row2_col0\" class=\"data row2 col0\" >407</td>\n",
       "      <td id=\"T_d7fa4_row2_col1\" class=\"data row2 col1\" >3</td>\n",
       "      <td id=\"T_d7fa4_row2_col2\" class=\"data row2 col2\" >2295.020000</td>\n",
       "    </tr>\n",
       "    <tr>\n",
       "      <th id=\"T_d7fa4_level0_row3\" class=\"row_heading level0 row3\" >12352.000000</th>\n",
       "      <td id=\"T_d7fa4_row3_col0\" class=\"data row3 col0\" >375</td>\n",
       "      <td id=\"T_d7fa4_row3_col1\" class=\"data row3 col1\" >2</td>\n",
       "      <td id=\"T_d7fa4_row3_col2\" class=\"data row3 col2\" >343.800000</td>\n",
       "    </tr>\n",
       "    <tr>\n",
       "      <th id=\"T_d7fa4_level0_row4\" class=\"row_heading level0 row4\" >12356.000000</th>\n",
       "      <td id=\"T_d7fa4_row4_col0\" class=\"data row4 col0\" >380</td>\n",
       "      <td id=\"T_d7fa4_row4_col1\" class=\"data row4 col1\" >3</td>\n",
       "      <td id=\"T_d7fa4_row4_col2\" class=\"data row4 col2\" >3560.300000</td>\n",
       "    </tr>\n",
       "  </tbody>\n",
       "</table>\n"
      ],
      "text/plain": [
       "<pandas.io.formats.style.Styler at 0x27fbb59f390>"
      ]
     },
     "execution_count": 17,
     "metadata": {},
     "output_type": "execute_result"
    }
   ],
   "source": [
    "RFM = RFM[(RFM[\"Frequency\"]>1)]\n",
    "RFM.head().style.set_properties(**{\"background-color\": \"#cd5c5c\",\"color\": \"black\", \"border-color\": \"black\"})"
   ]
  },
  {
   "cell_type": "code",
   "execution_count": 18,
   "id": "c73c7b0e",
   "metadata": {
    "execution": {
     "iopub.execute_input": "2023-07-24T12:26:01.990628Z",
     "iopub.status.busy": "2023-07-24T12:26:01.989729Z",
     "iopub.status.idle": "2023-07-24T12:26:03.762415Z",
     "shell.execute_reply": "2023-07-24T12:26:03.761384Z"
    },
    "papermill": {
     "duration": 1.789963,
     "end_time": "2023-07-24T12:26:03.765044",
     "exception": false,
     "start_time": "2023-07-24T12:26:01.975081",
     "status": "completed"
    },
    "tags": []
   },
   "outputs": [],
   "source": [
    "Shopping_Cycle = data.groupby('Customer ID').agg({'InvoiceDate': lambda x: ((x.max() - x.min()).days)})"
   ]
  },
  {
   "cell_type": "code",
   "execution_count": 19,
   "id": "b69357f5",
   "metadata": {
    "execution": {
     "iopub.execute_input": "2023-07-24T12:26:03.796788Z",
     "iopub.status.busy": "2023-07-24T12:26:03.796464Z",
     "iopub.status.idle": "2023-07-24T12:26:03.810881Z",
     "shell.execute_reply": "2023-07-24T12:26:03.809621Z"
    },
    "papermill": {
     "duration": 0.032351,
     "end_time": "2023-07-24T12:26:03.813542",
     "exception": false,
     "start_time": "2023-07-24T12:26:03.781191",
     "status": "completed"
    },
    "tags": []
   },
   "outputs": [
    {
     "data": {
      "text/html": [
       "<style type=\"text/css\">\n",
       "#T_6ef56_row0_col0, #T_6ef56_row0_col1, #T_6ef56_row0_col2, #T_6ef56_row0_col3, #T_6ef56_row1_col0, #T_6ef56_row1_col1, #T_6ef56_row1_col2, #T_6ef56_row1_col3, #T_6ef56_row2_col0, #T_6ef56_row2_col1, #T_6ef56_row2_col2, #T_6ef56_row2_col3, #T_6ef56_row3_col0, #T_6ef56_row3_col1, #T_6ef56_row3_col2, #T_6ef56_row3_col3, #T_6ef56_row4_col0, #T_6ef56_row4_col1, #T_6ef56_row4_col2, #T_6ef56_row4_col3 {\n",
       "  background-color: #cd5c5c;\n",
       "  color: black;\n",
       "  border-color: black;\n",
       "}\n",
       "</style>\n",
       "<table id=\"T_6ef56\">\n",
       "  <thead>\n",
       "    <tr>\n",
       "      <th class=\"blank level0\" >&nbsp;</th>\n",
       "      <th id=\"T_6ef56_level0_col0\" class=\"col_heading level0 col0\" >Recency</th>\n",
       "      <th id=\"T_6ef56_level0_col1\" class=\"col_heading level0 col1\" >Frequency</th>\n",
       "      <th id=\"T_6ef56_level0_col2\" class=\"col_heading level0 col2\" >Monetary</th>\n",
       "      <th id=\"T_6ef56_level0_col3\" class=\"col_heading level0 col3\" >Shopping_Cycle</th>\n",
       "    </tr>\n",
       "    <tr>\n",
       "      <th class=\"index_name level0\" >Customer ID</th>\n",
       "      <th class=\"blank col0\" >&nbsp;</th>\n",
       "      <th class=\"blank col1\" >&nbsp;</th>\n",
       "      <th class=\"blank col2\" >&nbsp;</th>\n",
       "      <th class=\"blank col3\" >&nbsp;</th>\n",
       "    </tr>\n",
       "  </thead>\n",
       "  <tbody>\n",
       "    <tr>\n",
       "      <th id=\"T_6ef56_level0_row0\" class=\"row_heading level0 row0\" >12346.000000</th>\n",
       "      <td id=\"T_6ef56_row0_col0\" class=\"data row0 col0\" >529</td>\n",
       "      <td id=\"T_6ef56_row0_col1\" class=\"data row0 col1\" >11</td>\n",
       "      <td id=\"T_6ef56_row0_col2\" class=\"data row0 col2\" >372.860000</td>\n",
       "      <td id=\"T_6ef56_row0_col3\" class=\"data row0 col3\" >196</td>\n",
       "    </tr>\n",
       "    <tr>\n",
       "      <th id=\"T_6ef56_level0_row1\" class=\"row_heading level0 row1\" >12347.000000</th>\n",
       "      <td id=\"T_6ef56_row1_col0\" class=\"data row1 col0\" >367</td>\n",
       "      <td id=\"T_6ef56_row1_col1\" class=\"data row1 col1\" >2</td>\n",
       "      <td id=\"T_6ef56_row1_col2\" class=\"data row1 col2\" >1323.320000</td>\n",
       "      <td id=\"T_6ef56_row1_col3\" class=\"data row1 col3\" >37</td>\n",
       "    </tr>\n",
       "    <tr>\n",
       "      <th id=\"T_6ef56_level0_row2\" class=\"row_heading level0 row2\" >12349.000000</th>\n",
       "      <td id=\"T_6ef56_row2_col0\" class=\"data row2 col0\" >407</td>\n",
       "      <td id=\"T_6ef56_row2_col1\" class=\"data row2 col1\" >3</td>\n",
       "      <td id=\"T_6ef56_row2_col2\" class=\"data row2 col2\" >2295.020000</td>\n",
       "      <td id=\"T_6ef56_row2_col3\" class=\"data row2 col3\" >181</td>\n",
       "    </tr>\n",
       "    <tr>\n",
       "      <th id=\"T_6ef56_level0_row3\" class=\"row_heading level0 row3\" >12352.000000</th>\n",
       "      <td id=\"T_6ef56_row3_col0\" class=\"data row3 col0\" >375</td>\n",
       "      <td id=\"T_6ef56_row3_col1\" class=\"data row3 col1\" >2</td>\n",
       "      <td id=\"T_6ef56_row3_col2\" class=\"data row3 col2\" >343.800000</td>\n",
       "      <td id=\"T_6ef56_row3_col3\" class=\"data row3 col3\" >16</td>\n",
       "    </tr>\n",
       "    <tr>\n",
       "      <th id=\"T_6ef56_level0_row4\" class=\"row_heading level0 row4\" >12356.000000</th>\n",
       "      <td id=\"T_6ef56_row4_col0\" class=\"data row4 col0\" >380</td>\n",
       "      <td id=\"T_6ef56_row4_col1\" class=\"data row4 col1\" >3</td>\n",
       "      <td id=\"T_6ef56_row4_col2\" class=\"data row4 col2\" >3560.300000</td>\n",
       "      <td id=\"T_6ef56_row4_col3\" class=\"data row4 col3\" >44</td>\n",
       "    </tr>\n",
       "  </tbody>\n",
       "</table>\n"
      ],
      "text/plain": [
       "<pandas.io.formats.style.Styler at 0x27fbc9d4590>"
      ]
     },
     "execution_count": 19,
     "metadata": {},
     "output_type": "execute_result"
    }
   ],
   "source": [
    "RFM[\"Shopping_Cycle\"] = Shopping_Cycle\n",
    "RFM.head().style.set_properties(**{\"background-color\": \"#cd5c5c\",\"color\": \"black\", \"border-color\": \"black\"})"
   ]
  },
  {
   "cell_type": "code",
   "execution_count": 20,
   "id": "a4e6639f",
   "metadata": {
    "execution": {
     "iopub.execute_input": "2023-07-24T12:26:03.844968Z",
     "iopub.status.busy": "2023-07-24T12:26:03.844679Z",
     "iopub.status.idle": "2023-07-24T12:26:03.860687Z",
     "shell.execute_reply": "2023-07-24T12:26:03.859404Z"
    },
    "papermill": {
     "duration": 0.034239,
     "end_time": "2023-07-24T12:26:03.863402",
     "exception": false,
     "start_time": "2023-07-24T12:26:03.829163",
     "status": "completed"
    },
    "tags": []
   },
   "outputs": [
    {
     "data": {
      "text/html": [
       "<style type=\"text/css\">\n",
       "#T_f1243_row0_col0, #T_f1243_row0_col1, #T_f1243_row0_col2, #T_f1243_row0_col3, #T_f1243_row1_col0, #T_f1243_row1_col1, #T_f1243_row1_col2, #T_f1243_row1_col3, #T_f1243_row2_col0, #T_f1243_row2_col1, #T_f1243_row2_col2, #T_f1243_row2_col3, #T_f1243_row3_col0, #T_f1243_row3_col1, #T_f1243_row3_col2, #T_f1243_row3_col3, #T_f1243_row4_col0, #T_f1243_row4_col1, #T_f1243_row4_col2, #T_f1243_row4_col3 {\n",
       "  background-color: #cd5c5c;\n",
       "  color: black;\n",
       "  border-color: black;\n",
       "}\n",
       "</style>\n",
       "<table id=\"T_f1243\">\n",
       "  <thead>\n",
       "    <tr>\n",
       "      <th class=\"blank level0\" >&nbsp;</th>\n",
       "      <th id=\"T_f1243_level0_col0\" class=\"col_heading level0 col0\" >Recency</th>\n",
       "      <th id=\"T_f1243_level0_col1\" class=\"col_heading level0 col1\" >Frequency</th>\n",
       "      <th id=\"T_f1243_level0_col2\" class=\"col_heading level0 col2\" >Monetary</th>\n",
       "      <th id=\"T_f1243_level0_col3\" class=\"col_heading level0 col3\" >Interpurchase_Time</th>\n",
       "    </tr>\n",
       "    <tr>\n",
       "      <th class=\"index_name level0\" >Customer ID</th>\n",
       "      <th class=\"blank col0\" >&nbsp;</th>\n",
       "      <th class=\"blank col1\" >&nbsp;</th>\n",
       "      <th class=\"blank col2\" >&nbsp;</th>\n",
       "      <th class=\"blank col3\" >&nbsp;</th>\n",
       "    </tr>\n",
       "  </thead>\n",
       "  <tbody>\n",
       "    <tr>\n",
       "      <th id=\"T_f1243_level0_row0\" class=\"row_heading level0 row0\" >12346.000000</th>\n",
       "      <td id=\"T_f1243_row0_col0\" class=\"data row0 col0\" >529</td>\n",
       "      <td id=\"T_f1243_row0_col1\" class=\"data row0 col1\" >11</td>\n",
       "      <td id=\"T_f1243_row0_col2\" class=\"data row0 col2\" >372.860000</td>\n",
       "      <td id=\"T_f1243_row0_col3\" class=\"data row0 col3\" >17</td>\n",
       "    </tr>\n",
       "    <tr>\n",
       "      <th id=\"T_f1243_level0_row1\" class=\"row_heading level0 row1\" >12347.000000</th>\n",
       "      <td id=\"T_f1243_row1_col0\" class=\"data row1 col0\" >367</td>\n",
       "      <td id=\"T_f1243_row1_col1\" class=\"data row1 col1\" >2</td>\n",
       "      <td id=\"T_f1243_row1_col2\" class=\"data row1 col2\" >1323.320000</td>\n",
       "      <td id=\"T_f1243_row1_col3\" class=\"data row1 col3\" >18</td>\n",
       "    </tr>\n",
       "    <tr>\n",
       "      <th id=\"T_f1243_level0_row2\" class=\"row_heading level0 row2\" >12349.000000</th>\n",
       "      <td id=\"T_f1243_row2_col0\" class=\"data row2 col0\" >407</td>\n",
       "      <td id=\"T_f1243_row2_col1\" class=\"data row2 col1\" >3</td>\n",
       "      <td id=\"T_f1243_row2_col2\" class=\"data row2 col2\" >2295.020000</td>\n",
       "      <td id=\"T_f1243_row2_col3\" class=\"data row2 col3\" >60</td>\n",
       "    </tr>\n",
       "    <tr>\n",
       "      <th id=\"T_f1243_level0_row3\" class=\"row_heading level0 row3\" >12352.000000</th>\n",
       "      <td id=\"T_f1243_row3_col0\" class=\"data row3 col0\" >375</td>\n",
       "      <td id=\"T_f1243_row3_col1\" class=\"data row3 col1\" >2</td>\n",
       "      <td id=\"T_f1243_row3_col2\" class=\"data row3 col2\" >343.800000</td>\n",
       "      <td id=\"T_f1243_row3_col3\" class=\"data row3 col3\" >8</td>\n",
       "    </tr>\n",
       "    <tr>\n",
       "      <th id=\"T_f1243_level0_row4\" class=\"row_heading level0 row4\" >12356.000000</th>\n",
       "      <td id=\"T_f1243_row4_col0\" class=\"data row4 col0\" >380</td>\n",
       "      <td id=\"T_f1243_row4_col1\" class=\"data row4 col1\" >3</td>\n",
       "      <td id=\"T_f1243_row4_col2\" class=\"data row4 col2\" >3560.300000</td>\n",
       "      <td id=\"T_f1243_row4_col3\" class=\"data row4 col3\" >14</td>\n",
       "    </tr>\n",
       "  </tbody>\n",
       "</table>\n"
      ],
      "text/plain": [
       "<pandas.io.formats.style.Styler at 0x27fbd7b5650>"
      ]
     },
     "execution_count": 20,
     "metadata": {},
     "output_type": "execute_result"
    }
   ],
   "source": [
    "RFM[\"Interpurchase_Time\"] = RFM[\"Shopping_Cycle\"] // RFM[\"Frequency\"]\n",
    "RFMT = RFM[[\"Recency\",\"Frequency\",\"Monetary\",\"Interpurchase_Time\"]]\n",
    "RFMT.head().style.set_properties(**{\"background-color\": \"#cd5c5c\",\"color\": \"black\", \"border-color\": \"black\"})"
   ]
  },
  {
   "cell_type": "markdown",
   "id": "1dbaa63b",
   "metadata": {
    "papermill": {
     "duration": 0.014574,
     "end_time": "2023-07-24T12:26:03.922874",
     "exception": false,
     "start_time": "2023-07-24T12:26:03.908300",
     "status": "completed"
    },
    "tags": []
   },
   "source": [
    "<a id=\"7\"></a>\n",
    "<div style=\"display: fill; border-radius: 8px; background: linear-gradient(135deg, #1D3557, #457B9D); font-size: 1.2em; font-family: Helvetica, Arial, sans-serif; letter-spacing: 0.5px; box-shadow: 0 4px 8px rgba(0, 0, 0, 0.2); text-align: center; padding: 16px; color: #F1FAEE; margin: 20px 0;\">\n",
    "    <strong style=\"font-size: 1.5em;\">Modelling with KMeans Algorithm </strong>\n",
    "</div>\n"
   ]
  },
  {
   "cell_type": "code",
   "execution_count": 21,
   "id": "3fd0cd0a",
   "metadata": {
    "execution": {
     "iopub.execute_input": "2023-07-24T12:26:03.953089Z",
     "iopub.status.busy": "2023-07-24T12:26:03.952765Z",
     "iopub.status.idle": "2023-07-24T12:26:06.297979Z",
     "shell.execute_reply": "2023-07-24T12:26:06.297102Z"
    },
    "papermill": {
     "duration": 2.364646,
     "end_time": "2023-07-24T12:26:06.301626",
     "exception": false,
     "start_time": "2023-07-24T12:26:03.936980",
     "status": "completed"
    },
    "tags": []
   },
   "outputs": [
    {
     "data": {
      "image/png": "[encoded data removed]",
      "text/plain": [
       "<Figure size 1000x500 with 2 Axes>"
      ]
     },
     "metadata": {},
     "output_type": "display_data"
    },
    {
     "name": "stdout",
     "output_type": "stream",
     "text": [
      "Therefore K = 4\n"
     ]
    }
   ],
   "source": [
    "# Finding initial K value using Elbow Method\n",
    "plt.figure(figsize=(10,5))\n",
    "ax = plt.axes()\n",
    "ax.set_facecolor(\"#cd5c5c\")\n",
    "Elbow_M = KElbowVisualizer(KMeans(), k=10) \n",
    "Elbow_M.fit(RFMT)\n",
    "Elbow_M.show()\n",
    "print(\"Therefore K = 4\")"
   ]
  },
  {
   "cell_type": "code",
   "execution_count": 22,
   "id": "e4cd2f85",
   "metadata": {},
   "outputs": [
    {
     "data": {
      "image/png": "[encoded data removed]",
      "text/plain": [
       "<Figure size 1000x500 with 1 Axes>"
      ]
     },
     "metadata": {},
     "output_type": "display_data"
    }
   ],
   "source": [
    "import seaborn as sns\n",
    "\n",
    "kmeans = KMeans(n_clusters=4, random_state=42)\n",
    "clusters = kmeans.fit_predict(RFMT)\n",
    "\n",
    "plt.figure(figsize=(10, 5))\n",
    "sns.histplot(clusters, bins=range(5), kde=False, color=\"#1D3557\")\n",
    "plt.xlabel('Cluster')\n",
    "plt.ylabel('Frequency')\n",
    "plt.title('Distribution of Data Points Across Clusters')\n",
    "plt.grid(True)\n",
    "plt.show()\n"
   ]
  },
  {
   "cell_type": "code",
   "execution_count": null,
   "id": "34548713",
   "metadata": {},
   "outputs": [],
   "source": [
    "import numpy as np\n",
    "import matplotlib.pyplot as plt\n",
    "from sklearn.cluster import KMeans\n",
    "\n",
    "# Assuming RFMT is a DataFrame\n",
    "RFMT_array = RFMT.to_numpy()  # Convert DataFrame to NumPy array\n",
    "\n",
    "kmeans = KMeans(n_clusters=4, random_state=42)\n",
    "kmeans.fit(RFMT_array)\n",
    "centers = kmeans.cluster_centers_\n",
    "\n",
    "plt.figure(figsize=(10, 5))\n",
    "plt.scatter(RFMT_array[:, 0], RFMT_array[:, 1], c=kmeans.labels_, cmap='viridis', alpha=0.6)\n",
    "plt.scatter(centers[:, 0], centers[:, 1], s=300, c='red', marker='X')\n",
    "plt.xlabel('Feature 1')\n",
    "plt.ylabel('Feature 2')\n",
    "plt.title('Data Points and Cluster Centers')\n",
    "plt.grid(True)\n",
    "plt.show()\n"
   ]
  },
  {
   "cell_type": "code",
   "execution_count": null,
   "id": "12256690",
   "metadata": {
    "execution": {
     "iopub.execute_input": "2023-07-24T12:26:06.335021Z",
     "iopub.status.busy": "2023-07-24T12:26:06.334716Z",
     "iopub.status.idle": "2023-07-24T12:26:06.437794Z",
     "shell.execute_reply": "2023-07-24T12:26:06.437024Z"
    },
    "papermill": {
     "duration": 0.122966,
     "end_time": "2023-07-24T12:26:06.440772",
     "exception": false,
     "start_time": "2023-07-24T12:26:06.317806",
     "status": "completed"
    },
    "tags": []
   },
   "outputs": [],
   "source": [
    "#Fitting KMeans Model\n",
    "kmeans = KMeans(n_clusters=4,max_iter=50)\n",
    "kmeans.fit(RFMT)"
   ]
  },
  {
   "cell_type": "code",
   "execution_count": null,
   "id": "30f676cf",
   "metadata": {
    "execution": {
     "iopub.execute_input": "2023-07-24T12:26:06.513188Z",
     "iopub.status.busy": "2023-07-24T12:26:06.512876Z",
     "iopub.status.idle": "2023-07-24T12:26:06.536973Z",
     "shell.execute_reply": "2023-07-24T12:26:06.535846Z"
    },
    "papermill": {
     "duration": 0.059322,
     "end_time": "2023-07-24T12:26:06.539341",
     "exception": false,
     "start_time": "2023-07-24T12:26:06.480019",
     "status": "completed"
    },
    "tags": []
   },
   "outputs": [],
   "source": [
    "RFMT[\"Clusters\"]=kmeans.labels_\n",
    "RFMT.head().style.set_properties(**{\"background-color\": \"#cd5c5c\",\"color\": \"black\", \"border-color\": \"black\"})"
   ]
  },
  {
   "cell_type": "markdown",
   "id": "6c410080",
   "metadata": {
    "execution": {
     "iopub.execute_input": "2023-07-08T13:07:42.913964Z",
     "iopub.status.busy": "2023-07-08T13:07:42.913316Z",
     "iopub.status.idle": "2023-07-08T13:07:42.921315Z",
     "shell.execute_reply": "2023-07-08T13:07:42.920008Z",
     "shell.execute_reply.started": "2023-07-08T13:07:42.913930Z"
    },
    "papermill": {
     "duration": 0.015784,
     "end_time": "2023-07-24T12:26:06.575721",
     "exception": false,
     "start_time": "2023-07-24T12:26:06.559937",
     "status": "completed"
    },
    "tags": []
   },
   "source": [
    "<a id=\"8\"></a>\n",
    "<div style=\"display: fill; border-radius: 8px; background: linear-gradient(135deg, #1D3557, #457B9D); font-size: 1.2em; font-family: Helvetica, Arial, sans-serif; letter-spacing: 0.5px; box-shadow: 0 4px 8px rgba(0, 0, 0, 0.2); text-align: center; padding: 16px; color: #F1FAEE; margin: 20px 0;\">\n",
    "    <strong style=\"color: #F1FAEE;\">\n",
    "        Model Evaluation \n",
    "    </strong>\n",
    "</div>\n"
   ]
  },
  {
   "cell_type": "code",
   "execution_count": null,
   "id": "21a7557d",
   "metadata": {
    "execution": {
     "iopub.execute_input": "2023-07-24T12:26:06.608538Z",
     "iopub.status.busy": "2023-07-24T12:26:06.608259Z",
     "iopub.status.idle": "2023-07-24T12:26:06.615482Z",
     "shell.execute_reply": "2023-07-24T12:26:06.614420Z"
    },
    "papermill": {
     "duration": 0.026761,
     "end_time": "2023-07-24T12:26:06.618818",
     "exception": false,
     "start_time": "2023-07-24T12:26:06.592057",
     "status": "completed"
    },
    "tags": []
   },
   "outputs": [],
   "source": [
    "# how well the clusters are?:\n",
    "#centriods\n",
    "kmeans.cluster_centers_"
   ]
  },
  {
   "cell_type": "code",
   "execution_count": null,
   "id": "5a6e78da",
   "metadata": {
    "execution": {
     "iopub.execute_input": "2023-07-24T12:26:06.654879Z",
     "iopub.status.busy": "2023-07-24T12:26:06.654604Z",
     "iopub.status.idle": "2023-07-24T12:26:07.079907Z",
     "shell.execute_reply": "2023-07-24T12:26:07.079017Z"
    },
    "papermill": {
     "duration": 0.444111,
     "end_time": "2023-07-24T12:26:07.082128",
     "exception": false,
     "start_time": "2023-07-24T12:26:06.638017",
     "status": "completed"
    },
    "tags": []
   },
   "outputs": [],
   "source": [
    "# grouping the data in accorandance with each cluster seperately\n",
    "one = RFMT[RFMT[\"Clusters\"]==0]\n",
    "two = RFMT[RFMT[\"Clusters\"]==1]\n",
    "three = RFMT[RFMT[\"Clusters\"]==2]\n",
    "four = RFMT[RFMT[\"Clusters\"]==3]\n",
    "\n",
    "#Checking the quality of clustering in the data set\n",
    "plt.figure(figsize=(10,5))\n",
    "ax = plt.axes()\n",
    "ax.set_facecolor(\"#cd5c5c\")\n",
    "plt.scatter(one[\"Recency\"],one[\"Frequency\"],color='green')\n",
    "plt.scatter(two[\"Recency\"],two[\"Frequency\"],color='red')\n",
    "plt.scatter(three[\"Recency\"],three[\"Frequency\"],color='grey')\n",
    "plt.scatter(four[\"Recency\"],four[\"Frequency\"],color='blue')\n",
    "plt.scatter(kmeans.cluster_centers_[:,0],kmeans.cluster_centers_[:,1],color=\"yellow\",marker=\"*\",label=\"centroid\")\n",
    "plt.legend()\n",
    "plt.show "
   ]
  },
  {
   "cell_type": "code",
   "execution_count": null,
   "id": "8ddda5e0",
   "metadata": {
    "execution": {
     "iopub.execute_input": "2023-07-24T12:26:07.148641Z",
     "iopub.status.busy": "2023-07-24T12:26:07.147829Z",
     "iopub.status.idle": "2023-07-24T12:26:07.497877Z",
     "shell.execute_reply": "2023-07-24T12:26:07.496841Z"
    },
    "papermill": {
     "duration": 0.368944,
     "end_time": "2023-07-24T12:26:07.499973",
     "exception": false,
     "start_time": "2023-07-24T12:26:07.131029",
     "status": "completed"
    },
    "tags": []
   },
   "outputs": [],
   "source": [
    "from sklearn.metrics import silhouette_score\n",
    "print(\"Silhouette score :\",silhouette_score(RFMT, kmeans.labels_, metric='euclidean'))"
   ]
  },
  {
   "cell_type": "code",
   "execution_count": null,
   "id": "64939037",
   "metadata": {
    "papermill": {
     "duration": 0.016501,
     "end_time": "2023-07-24T12:26:07.632866",
     "exception": false,
     "start_time": "2023-07-24T12:26:07.616365",
     "status": "completed"
    },
    "tags": []
   },
   "outputs": [],
   "source": [
    "from sklearn.cluster import KMeans\n",
    "from sklearn.metrics import silhouette_score\n",
    "from yellowbrick.cluster import KElbowVisualizer\n",
    "\n",
    "# Fit the model\n",
    "kmeans = KMeans()\n",
    "visualizer = KElbowVisualizer(kmeans, k=(1,10))\n",
    "visualizer.fit(RFMT)\n",
    "visualizer.show()\n"
   ]
  },
  {
   "cell_type": "code",
   "execution_count": null,
   "id": "46dccb32",
   "metadata": {},
   "outputs": [],
   "source": [
    "from sklearn.metrics import davies_bouldin_score\n",
    "\n",
    "db_index = davies_bouldin_score(RFMT, kmeans.labels_)\n",
    "print(\"Davies-Bouldin Index :\", db_index)\n"
   ]
  },
  {
   "cell_type": "code",
   "execution_count": null,
   "id": "bbb0c707",
   "metadata": {},
   "outputs": [],
   "source": [
    "from sklearn.utils import shuffle\n",
    "\n",
    "# Perturb the data slightly\n",
    "perturbed_data = shuffle(RFMT, random_state=42)\n",
    "\n",
    "# Fit the KMeans model again\n",
    "kmeans_perturbed = KMeans(n_clusters=4, random_state=42)\n",
    "kmeans_perturbed.fit(perturbed_data)\n",
    "\n",
    "# Compare cluster labels\n",
    "stability_score = silhouette_score(RFMT, kmeans_perturbed.labels_, metric='euclidean')\n",
    "print(\"Cluster Stability Score :\", stability_score)\n"
   ]
  },
  {
   "cell_type": "code",
   "execution_count": null,
   "id": "cfc68613",
   "metadata": {},
   "outputs": [],
   "source": []
  }
 ],
 "metadata": {
  "kernelspec": {
   "display_name": "Python 3 (ipykernel)",
   "language": "python",
   "name": "python3"
  },
  "language_info": {
   "codemirror_mode": {
    "name": "ipython",
    "version": 3
   },
   "file_extension": ".py",
   "mimetype": "text/x-python",
   "name": "python",
   "nbconvert_exporter": "python",
   "pygments_lexer": "ipython3",
   "version": "3.11.5"
  },
  "papermill": {
   "default_parameters": {},
   "duration": 36.510632,
   "end_time": "2023-07-24T12:26:08.472067",
   "environment_variables": {},
   "exception": null,
   "input_path": "__notebook__.ipynb",
   "output_path": "__notebook__.ipynb",
   "parameters": {},
   "start_time": "2023-07-24T12:25:31.961435",
   "version": "2.4.0"
  }
 },
 "nbformat": 4,
 "nbformat_minor": 5
}
